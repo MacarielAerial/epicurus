{
 "cells": [
  {
   "attachments": {},
   "cell_type": "markdown",
   "metadata": {},
   "source": [
    "# HTML Parsing"
   ]
  },
  {
   "cell_type": "code",
   "execution_count": 3,
   "metadata": {},
   "outputs": [],
   "source": [
    "from pathlib import Path\n",
    "\n",
    "import bs4"
   ]
  },
  {
   "cell_type": "code",
   "execution_count": 4,
   "metadata": {},
   "outputs": [],
   "source": [
    "path_input_html = (\n",
    "    Path(\"../\")\n",
    "    / \"data\"\n",
    "    / \"01_raw\"\n",
    "    / \"ECB only halfway through tightening cycle, says policymaker_ Central banks - ProQuest.html\"\n",
    ")"
   ]
  },
  {
   "cell_type": "code",
   "execution_count": 30,
   "metadata": {},
   "outputs": [
    {
     "name": "stdout",
     "output_type": "stream",
     "text": [
      "<p>A veteran member of the European Central Bank's rate-setting council believes it has only just passed the halfway point of its tightening cycle and needs to be \"in there for the long game\" to tame high inflation.</p>\n",
      "<p>After more than a decade of aggressive easing, 2022 was the year when many leading central banks began to raise rates in response to soaring prices. The ECB increased borrowing costs by 2.5 percentage points, capping the year with its fourth rise in a row to leave its benchmark deposit rate at 2 per cent.</p>\n",
      "<p>Klaas Knot, head of the Dutch central bank and one of the governing council's more hawkish rate-setters, told the Financial Times that, with five policy meetings between now and July 2023, the ECB would achieve \"quite a decent pace of tightening\" through half percentage point rises in the months ahead before borrowing costs eventually peaked by the summer.</p>\n",
      "<p>In the eurozone, consumer price inflation hit a record high of 10.6 per cent in the year to October — more than five times the ECB's 2 per cent target. In the Netherlands, inflation has been higher still, peaking at 17.1 per cent in September.</p>\n",
      "<p>But growth in the bloc is slowing, leaving central bankers facing a delicate balancing act between fighting inflation and exacerbating the slowdown.</p>\n",
      "<p>\"The risk of us doing too little is still the bigger risk,\" Knot said. \"We are just at the beginning of the second half.\" Deciding when it had tightened policy enough would be the \"main challenge\" for the ECB next year.</p>\n",
      "<p>Knot is the longest-serving member of the governing council and the only eurozone rate-setter who was part of the central bank's previous round of rate rises in 2011 — moves that were widely criticised after the bloc entered a sovereign debt crisis just months later.</p>\n",
      "<p>Knot said financial stability risks were \"much clearer on our radar screen now\". It was no coincidence, he said, that before starting to raise rates in July the ECB had set up a new bond-buying tool to counter the risk of fresh turmoil.</p>\n",
      "<p>The Dutch central banker acknowledged that, in 2011, the ECB should \"probably have paid a little bit more attention\" to low levels of underlying inflation — excluding more volatile energy and food costs — before raising rates in response to surging oil prices.</p>\n",
      "<p>This time around, however, core measures are at a record high of 5 per cent and are forecast by ECB economists to stay above its 2 per cent target even by 2025. Persistence of price pressures is now Knot's \"main concern\".</p>\n",
      "<p>The 55-year-old Knot, who joined the bank in 1995, said that it surprised governing council members when he supported a step down to a half-point rate rise at its latest meeting — after two larger moves previously. More than a third of council members argued for continuing with 0.75 percentage point rises but Knot said that by shifting to smaller rate moves, \"we grant ourselves a little bit more time along the way as we tighten into 2023 to evaluate the effects of our tightening\".</p>\n",
      "<p>Many economists think the ECB is underestimating how quickly inflation will fall next year and how deep the recession could be. But Knot said recent data indicated any recession would be \"short and shallow\". In certain parts of the region, such as Germany, recent data showed \"the worst ... may already be behind us\", he said.</p>\n",
      "<p>Sharp wage rises would keep inflation high. The ECB expects pay growth to hit 5.2 per cent next year before falling back to just below 4 per cent in 2025.</p>\n",
      "<p>Knot said he expected \"lots of labour hoarding, even in a recession\" would keep eurozone jobless levels near a recent record low of 6.6 per cent.</p>\n",
      "<p>A record 6.4 per cent annual growth in Dutch wages in November \"might happen in other countries with a certain delay\", he predicted.</p>\n",
      "<p>Politicians in Italy have criticised the ECB's latest rate rise for causing unnecessary economic pain.</p>\n",
      "<p>Knot acknowledged that the war in Ukraine created \"genuine uncertainty\" that was beyond the ECB's control, but said the best it could do was to focus on bringing down inflation, which was a \"regressive tax that nobody voted for\".</p>\n",
      "<p>CREDIT: MARTIN ARNOLD — AMSTERDAM</p>\n",
      "<p>CAPTION: Klaas Knot: Dutch central bank chief says surging eurozone inflation is a 'regressive tax nobody voted for'</p>\n"
     ]
    }
   ],
   "source": [
    "with open(path_input_html, \"r\") as f:\n",
    "    soup = bs4.BeautifulSoup(f.read(), \"html.parser\")\n",
    "\n",
    "\n",
    "def find_tag_body(tag):\n",
    "    if all([tag.name == \"text\", \"htmlcontent\" in tag.attrs, \"wordcount\" in tag.attrs]):\n",
    "        if tag[\"htmlcontent\"] == \"true\":\n",
    "            return True\n",
    "        else:\n",
    "            return False\n",
    "    else:\n",
    "        return False\n",
    "\n",
    "\n",
    "tag_body = soup.find(find_tag_body)\n",
    "\n",
    "\n",
    "def find_tag_non_null_paragraph(tag):\n",
    "    if tag.name == \"p\":\n",
    "        if len(tag.text) != 0:\n",
    "            return True\n",
    "        else:\n",
    "            return False\n",
    "    else:\n",
    "        return False\n",
    "\n",
    "\n",
    "tags_paragraph = tag_body.find_all(find_tag_non_null_paragraph)\n",
    "for tag_paragraph in tags_paragraph:\n",
    "    print(tag_paragraph)"
   ]
  },
  {
   "cell_type": "code",
   "execution_count": 56,
   "metadata": {},
   "outputs": [
    {
     "data": {
      "text/plain": [
       "<h1 class=\"documentTitle truncatedDocumentTitle\" id=\"documentTitle\">ECB only halfway through tightening cycle, says policymaker: Central banks</h1>"
      ]
     },
     "execution_count": 56,
     "metadata": {},
     "output_type": "execute_result"
    }
   ],
   "source": [
    "def find_tag_title(tag):\n",
    "    if all([tag.name == \"h1\", \"class\" in tag.attrs, \"id\" in tag.attrs]):\n",
    "        if all(\n",
    "            [\n",
    "                tag[\"class\"] == [\"documentTitle\", \"truncatedDocumentTitle\"],\n",
    "                tag[\"id\"] == \"documentTitle\",\n",
    "            ]\n",
    "        ):\n",
    "            return True\n",
    "        else:\n",
    "            return False\n",
    "    else:\n",
    "        return False\n",
    "\n",
    "\n",
    "tag_title = soup.find(find_tag_title)\n",
    "tag_title"
   ]
  }
 ],
 "metadata": {
  "kernelspec": {
   "display_name": ".venv",
   "language": "python",
   "name": "python3"
  },
  "language_info": {
   "codemirror_mode": {
    "name": "ipython",
    "version": 3
   },
   "file_extension": ".py",
   "mimetype": "text/x-python",
   "name": "python",
   "nbconvert_exporter": "python",
   "pygments_lexer": "ipython3",
   "version": "3.9.14 (main, Oct  8 2022, 16:23:50) \n[GCC 9.4.0]"
  },
  "orig_nbformat": 4,
  "vscode": {
   "interpreter": {
    "hash": "96139a86f662d9d904d2b2f89c2f66fcbde5cd30dad0a77568198f5027f42e50"
   }
  }
 },
 "nbformat": 4,
 "nbformat_minor": 2
}
